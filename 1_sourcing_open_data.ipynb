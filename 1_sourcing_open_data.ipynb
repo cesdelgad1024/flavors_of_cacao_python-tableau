{
 "cells": [
  {
   "cell_type": "code",
   "execution_count": 1,
   "id": "feaed71d-57be-42ce-893d-df669e864c37",
   "metadata": {},
   "outputs": [],
   "source": [
    "# Step 3:\n",
    "# Importing essential libraries\n",
    "import folium\n",
    "import pandas as pd\n",
    "import json\n",
    "import ast\n",
    "import re"
   ]
  },
  {
   "cell_type": "code",
   "execution_count": 3,
   "id": "8fb34eb5-a14f-4833-a413-cf2a92018375",
   "metadata": {},
   "outputs": [],
   "source": [
    "# Step 4:\n",
    "# Define the full path to your GeoJSON file\n",
    "geojson_path = ...\\6.1\\world.geojson'\n",
    "\n",
    "with open(geojson_path, 'r', encoding='utf-8') as f:\n",
    "    geo_data = json.load(f)"
   ]
  },
  {
   "cell_type": "code",
   "execution_count": 4,
   "id": "f1a1e49b-c8c4-46ea-93fa-ef64de086693",
   "metadata": {},
   "outputs": [],
   "source": [
    "#Import Data\n",
    "df = pd.read_csv(...\\6.1\\flavors_of_cacao.csv', index_col = False)\n",
    "path = ...\\6.1'"
   ]
  },
  {
   "cell_type": "code",
   "execution_count": 5,
   "id": "398c8bdc-afe1-493d-a070-3d169a33959f",
   "metadata": {},
   "outputs": [
    {
     "name": "stdout",
     "output_type": "stream",
     "text": [
      "  Company \\n(Maker-if known) Specific Bean Origin\\nor Bar Name   REF  \\\n",
      "0                   A. Morin                       Agua Grande  1876   \n",
      "1                   A. Morin                             Kpime  1676   \n",
      "2                   A. Morin                            Atsane  1676   \n",
      "3                   A. Morin                             Akata  1680   \n",
      "4                   A. Morin                            Quilla  1704   \n",
      "\n",
      "   Review\\nDate Cocoa\\nPercent Company\\nLocation  Rating Bean\\nType  \\\n",
      "0          2016            63%            France    3.75              \n",
      "1          2015            70%            France    2.75              \n",
      "2          2015            70%            France    3.00              \n",
      "3          2015            70%            France    3.50              \n",
      "4          2015            70%            France    3.50              \n",
      "\n",
      "  Broad Bean\\nOrigin  \n",
      "0           Sao Tome  \n",
      "1               Togo  \n",
      "2               Togo  \n",
      "3               Togo  \n",
      "4               Peru  \n"
     ]
    }
   ],
   "source": [
    "# Display the first few rows of the dataset\n",
    "pd.options.display.float_format = '{:.2f}'.format\n",
    "# Set to None to display all rows\n",
    "pd.set_option('display.max_rows', None)\n",
    "print(df.head())"
   ]
  },
  {
   "cell_type": "code",
   "execution_count": 19,
   "id": "4400a7d7-00ca-4518-bf89-ad952a39abaa",
   "metadata": {},
   "outputs": [
    {
     "name": "stdout",
     "output_type": "stream",
     "text": [
      "Original Column Names: ['company\\xa0\\n(maker-if known)', 'specific bean origin\\nor bar name', 'id_number', 'review\\ndate', 'cocoa\\npercent', 'company\\nlocation', 'rating', 'bean\\ntype', 'broad bean\\norigin']\n"
     ]
    }
   ],
   "source": [
    "# Display current column names\n",
    "print(\"Original Column Names:\", df.columns.tolist())"
   ]
  },
  {
   "cell_type": "code",
   "execution_count": 20,
   "id": "7a29313f-3ce4-4412-b0bb-d2a6f7f33ec9",
   "metadata": {},
   "outputs": [
    {
     "name": "stdout",
     "output_type": "stream",
     "text": [
      "Cleaned Column Names: ['company', 'specific_origin', 'ref', 'review_date', 'cocoa_percent', 'location', 'rating', 'bean_type', 'bean_origin']\n"
     ]
    }
   ],
   "source": [
    "df.columns = [\n",
    "    'company',               # 'company \\n(maker-if known)'\n",
    "    'specific_origin',       # 'specific bean origin\\nor bar name'\n",
    "    'ref',                   # 'ref'\n",
    "    'review_date',           # 'review\\ndate'\n",
    "    'cocoa_percent',         # 'cocoa\\npercent'\n",
    "    'location',              # 'company\\nlocation'\n",
    "    'rating',                # 'rating'\n",
    "    'bean_type',             # 'bean\\ntype'\n",
    "    'bean_origin'            # 'broad bean\\norigin'\n",
    "]\n",
    "print(\"Cleaned Column Names:\", df.columns.tolist())"
   ]
  },
  {
   "cell_type": "code",
   "execution_count": 21,
   "id": "10bbf445-3713-462f-8cef-d4b9de71ffda",
   "metadata": {},
   "outputs": [
    {
     "name": "stdout",
     "output_type": "stream",
     "text": [
      "    company specific_origin   ref  review_date cocoa_percent location  rating  \\\n",
      "0  A. Morin     Agua Grande  1876         2016           63%   France    3.75   \n",
      "1  A. Morin           Kpime  1676         2015           70%   France    2.75   \n",
      "2  A. Morin          Atsane  1676         2015           70%   France    3.00   \n",
      "3  A. Morin           Akata  1680         2015           70%   France    3.50   \n",
      "4  A. Morin          Quilla  1704         2015           70%   France    3.50   \n",
      "\n",
      "  bean_type bean_origin  \n",
      "0              Sao Tome  \n",
      "1                  Togo  \n",
      "2                  Togo  \n",
      "3                  Togo  \n",
      "4                  Peru  \n"
     ]
    }
   ],
   "source": [
    "print(df.head())"
   ]
  },
  {
   "cell_type": "code",
   "execution_count": 22,
   "id": "967bfa80-77eb-4373-a124-5a5a61825d87",
   "metadata": {},
   "outputs": [
    {
     "name": "stderr",
     "output_type": "stream",
     "text": [
      "...\\ipykernel_79008\\1037282523.py:4: FutureWarning: A value is trying to be set on a copy of a DataFrame or Series through chained assignment using an inplace method.\n",
      "The behavior will change in pandas 3.0. This inplace method will never work because the intermediate object on which we are setting values always behaves as a copy.\n",
      "\n",
      "For example, when doing 'df[col].method(value, inplace=True)', try using 'df.method({col: value}, inplace=True)' or df[col] = df[col].method(value) instead, to perform the operation inplace on the original object.\n",
      "\n",
      "\n",
      "  df[col].fillna('Unknown', inplace=True)\n"
     ]
    }
   ],
   "source": [
    "# Missing Values\n",
    "for col in text_columns:\n",
    "    if col in df.columns:\n",
    "        df[col].fillna('Unknown', inplace=True) "
   ]
  },
  {
   "cell_type": "code",
   "execution_count": 23,
   "id": "6ff293b5-0699-4e0d-a217-8ae1bad472b7",
   "metadata": {},
   "outputs": [
    {
     "data": {
      "text/plain": [
       "company            0\n",
       "specific_origin    0\n",
       "ref                0\n",
       "review_date        0\n",
       "cocoa_percent      0\n",
       "location           0\n",
       "rating             0\n",
       "bean_type          0\n",
       "bean_origin        0\n",
       "dtype: int64"
      ]
     },
     "execution_count": 23,
     "metadata": {},
     "output_type": "execute_result"
    }
   ],
   "source": [
    "df.isnull().sum()"
   ]
  },
  {
   "cell_type": "code",
   "execution_count": 24,
   "id": "f494e7d8-4937-4c49-ad46-55d32ecff479",
   "metadata": {},
   "outputs": [
    {
     "data": {
      "text/html": [
       "<div>\n",
       "<style scoped>\n",
       "    .dataframe tbody tr th:only-of-type {\n",
       "        vertical-align: middle;\n",
       "    }\n",
       "\n",
       "    .dataframe tbody tr th {\n",
       "        vertical-align: top;\n",
       "    }\n",
       "\n",
       "    .dataframe thead th {\n",
       "        text-align: right;\n",
       "    }\n",
       "</style>\n",
       "<table border=\"1\" class=\"dataframe\">\n",
       "  <thead>\n",
       "    <tr style=\"text-align: right;\">\n",
       "      <th></th>\n",
       "      <th>company</th>\n",
       "      <th>specific_origin</th>\n",
       "      <th>ref</th>\n",
       "      <th>review_date</th>\n",
       "      <th>cocoa_percent</th>\n",
       "      <th>location</th>\n",
       "      <th>rating</th>\n",
       "      <th>bean_type</th>\n",
       "      <th>bean_origin</th>\n",
       "    </tr>\n",
       "  </thead>\n",
       "  <tbody>\n",
       "    <tr>\n",
       "      <th>0</th>\n",
       "      <td>A. Morin</td>\n",
       "      <td>Agua Grande</td>\n",
       "      <td>1876</td>\n",
       "      <td>2016</td>\n",
       "      <td>63%</td>\n",
       "      <td>France</td>\n",
       "      <td>3.75</td>\n",
       "      <td></td>\n",
       "      <td>Sao Tome</td>\n",
       "    </tr>\n",
       "    <tr>\n",
       "      <th>1</th>\n",
       "      <td>A. Morin</td>\n",
       "      <td>Kpime</td>\n",
       "      <td>1676</td>\n",
       "      <td>2015</td>\n",
       "      <td>70%</td>\n",
       "      <td>France</td>\n",
       "      <td>2.75</td>\n",
       "      <td></td>\n",
       "      <td>Togo</td>\n",
       "    </tr>\n",
       "    <tr>\n",
       "      <th>2</th>\n",
       "      <td>A. Morin</td>\n",
       "      <td>Atsane</td>\n",
       "      <td>1676</td>\n",
       "      <td>2015</td>\n",
       "      <td>70%</td>\n",
       "      <td>France</td>\n",
       "      <td>3.00</td>\n",
       "      <td></td>\n",
       "      <td>Togo</td>\n",
       "    </tr>\n",
       "    <tr>\n",
       "      <th>3</th>\n",
       "      <td>A. Morin</td>\n",
       "      <td>Akata</td>\n",
       "      <td>1680</td>\n",
       "      <td>2015</td>\n",
       "      <td>70%</td>\n",
       "      <td>France</td>\n",
       "      <td>3.50</td>\n",
       "      <td></td>\n",
       "      <td>Togo</td>\n",
       "    </tr>\n",
       "    <tr>\n",
       "      <th>4</th>\n",
       "      <td>A. Morin</td>\n",
       "      <td>Quilla</td>\n",
       "      <td>1704</td>\n",
       "      <td>2015</td>\n",
       "      <td>70%</td>\n",
       "      <td>France</td>\n",
       "      <td>3.50</td>\n",
       "      <td></td>\n",
       "      <td>Peru</td>\n",
       "    </tr>\n",
       "    <tr>\n",
       "      <th>5</th>\n",
       "      <td>A. Morin</td>\n",
       "      <td>Carenero</td>\n",
       "      <td>1315</td>\n",
       "      <td>2014</td>\n",
       "      <td>70%</td>\n",
       "      <td>France</td>\n",
       "      <td>2.75</td>\n",
       "      <td>Criollo</td>\n",
       "      <td>Venezuela</td>\n",
       "    </tr>\n",
       "    <tr>\n",
       "      <th>6</th>\n",
       "      <td>A. Morin</td>\n",
       "      <td>Cuba</td>\n",
       "      <td>1315</td>\n",
       "      <td>2014</td>\n",
       "      <td>70%</td>\n",
       "      <td>France</td>\n",
       "      <td>3.50</td>\n",
       "      <td></td>\n",
       "      <td>Cuba</td>\n",
       "    </tr>\n",
       "    <tr>\n",
       "      <th>7</th>\n",
       "      <td>A. Morin</td>\n",
       "      <td>Sur del Lago</td>\n",
       "      <td>1315</td>\n",
       "      <td>2014</td>\n",
       "      <td>70%</td>\n",
       "      <td>France</td>\n",
       "      <td>3.50</td>\n",
       "      <td>Criollo</td>\n",
       "      <td>Venezuela</td>\n",
       "    </tr>\n",
       "    <tr>\n",
       "      <th>8</th>\n",
       "      <td>A. Morin</td>\n",
       "      <td>Puerto Cabello</td>\n",
       "      <td>1319</td>\n",
       "      <td>2014</td>\n",
       "      <td>70%</td>\n",
       "      <td>France</td>\n",
       "      <td>3.75</td>\n",
       "      <td>Criollo</td>\n",
       "      <td>Venezuela</td>\n",
       "    </tr>\n",
       "    <tr>\n",
       "      <th>9</th>\n",
       "      <td>A. Morin</td>\n",
       "      <td>Pablino</td>\n",
       "      <td>1319</td>\n",
       "      <td>2014</td>\n",
       "      <td>70%</td>\n",
       "      <td>France</td>\n",
       "      <td>4.00</td>\n",
       "      <td></td>\n",
       "      <td>Peru</td>\n",
       "    </tr>\n",
       "  </tbody>\n",
       "</table>\n",
       "</div>"
      ],
      "text/plain": [
       "    company specific_origin   ref  review_date cocoa_percent location  rating  \\\n",
       "0  A. Morin     Agua Grande  1876         2016           63%   France    3.75   \n",
       "1  A. Morin           Kpime  1676         2015           70%   France    2.75   \n",
       "2  A. Morin          Atsane  1676         2015           70%   France    3.00   \n",
       "3  A. Morin           Akata  1680         2015           70%   France    3.50   \n",
       "4  A. Morin          Quilla  1704         2015           70%   France    3.50   \n",
       "5  A. Morin        Carenero  1315         2014           70%   France    2.75   \n",
       "6  A. Morin            Cuba  1315         2014           70%   France    3.50   \n",
       "7  A. Morin    Sur del Lago  1315         2014           70%   France    3.50   \n",
       "8  A. Morin  Puerto Cabello  1319         2014           70%   France    3.75   \n",
       "9  A. Morin         Pablino  1319         2014           70%   France    4.00   \n",
       "\n",
       "  bean_type bean_origin  \n",
       "0              Sao Tome  \n",
       "1                  Togo  \n",
       "2                  Togo  \n",
       "3                  Togo  \n",
       "4                  Peru  \n",
       "5   Criollo   Venezuela  \n",
       "6                  Cuba  \n",
       "7   Criollo   Venezuela  \n",
       "8   Criollo   Venezuela  \n",
       "9                  Peru  "
      ]
     },
     "execution_count": 24,
     "metadata": {},
     "output_type": "execute_result"
    }
   ],
   "source": [
    "df.head(10)"
   ]
  },
  {
   "cell_type": "code",
   "execution_count": 25,
   "id": "5de66dc4-8679-424c-a61b-da75e6f9b92c",
   "metadata": {},
   "outputs": [
    {
     "data": {
      "text/html": [
       "<div>\n",
       "<style scoped>\n",
       "    .dataframe tbody tr th:only-of-type {\n",
       "        vertical-align: middle;\n",
       "    }\n",
       "\n",
       "    .dataframe tbody tr th {\n",
       "        vertical-align: top;\n",
       "    }\n",
       "\n",
       "    .dataframe thead th {\n",
       "        text-align: right;\n",
       "    }\n",
       "</style>\n",
       "<table border=\"1\" class=\"dataframe\">\n",
       "  <thead>\n",
       "    <tr style=\"text-align: right;\">\n",
       "      <th></th>\n",
       "      <th>ref</th>\n",
       "      <th>review_date</th>\n",
       "      <th>rating</th>\n",
       "    </tr>\n",
       "  </thead>\n",
       "  <tbody>\n",
       "    <tr>\n",
       "      <th>count</th>\n",
       "      <td>1795.00</td>\n",
       "      <td>1795.00</td>\n",
       "      <td>1795.00</td>\n",
       "    </tr>\n",
       "    <tr>\n",
       "      <th>mean</th>\n",
       "      <td>1035.90</td>\n",
       "      <td>2012.33</td>\n",
       "      <td>3.19</td>\n",
       "    </tr>\n",
       "    <tr>\n",
       "      <th>std</th>\n",
       "      <td>552.89</td>\n",
       "      <td>2.93</td>\n",
       "      <td>0.48</td>\n",
       "    </tr>\n",
       "    <tr>\n",
       "      <th>min</th>\n",
       "      <td>5.00</td>\n",
       "      <td>2006.00</td>\n",
       "      <td>1.00</td>\n",
       "    </tr>\n",
       "    <tr>\n",
       "      <th>25%</th>\n",
       "      <td>576.00</td>\n",
       "      <td>2010.00</td>\n",
       "      <td>2.88</td>\n",
       "    </tr>\n",
       "    <tr>\n",
       "      <th>50%</th>\n",
       "      <td>1069.00</td>\n",
       "      <td>2013.00</td>\n",
       "      <td>3.25</td>\n",
       "    </tr>\n",
       "    <tr>\n",
       "      <th>75%</th>\n",
       "      <td>1502.00</td>\n",
       "      <td>2015.00</td>\n",
       "      <td>3.50</td>\n",
       "    </tr>\n",
       "    <tr>\n",
       "      <th>max</th>\n",
       "      <td>1952.00</td>\n",
       "      <td>2017.00</td>\n",
       "      <td>5.00</td>\n",
       "    </tr>\n",
       "  </tbody>\n",
       "</table>\n",
       "</div>"
      ],
      "text/plain": [
       "          ref  review_date  rating\n",
       "count 1795.00      1795.00 1795.00\n",
       "mean  1035.90      2012.33    3.19\n",
       "std    552.89         2.93    0.48\n",
       "min      5.00      2006.00    1.00\n",
       "25%    576.00      2010.00    2.88\n",
       "50%   1069.00      2013.00    3.25\n",
       "75%   1502.00      2015.00    3.50\n",
       "max   1952.00      2017.00    5.00"
      ]
     },
     "execution_count": 25,
     "metadata": {},
     "output_type": "execute_result"
    }
   ],
   "source": [
    "df.describe()"
   ]
  },
  {
   "cell_type": "code",
   "execution_count": 26,
   "id": "155057ed-c19f-41c9-a94e-12413c3e5dce",
   "metadata": {},
   "outputs": [],
   "source": [
    "# Save the cleaned data to a CSV file\n",
    "df.to_csv('cleaned_chocolate_data.csv', index=False)"
   ]
  },
  {
   "cell_type": "code",
   "execution_count": null,
   "id": "718e86dd-3545-4906-ac55-46a62080c79c",
   "metadata": {},
   "outputs": [],
   "source": []
  }
 ],
 "metadata": {
  "kernelspec": {
   "display_name": "Python 3 (ipykernel)",
   "language": "python",
   "name": "python3"
  },
  "language_info": {
   "codemirror_mode": {
    "name": "ipython",
    "version": 3
   },
   "file_extension": ".py",
   "mimetype": "text/x-python",
   "name": "python",
   "nbconvert_exporter": "python",
   "pygments_lexer": "ipython3",
   "version": "3.12.3"
  }
 },
 "nbformat": 4,
 "nbformat_minor": 5
}
